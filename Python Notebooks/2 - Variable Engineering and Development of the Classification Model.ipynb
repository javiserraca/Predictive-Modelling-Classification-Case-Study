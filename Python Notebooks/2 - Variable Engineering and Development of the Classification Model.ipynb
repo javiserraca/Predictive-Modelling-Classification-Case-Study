{
 "cells": [
  {
   "cell_type": "markdown",
   "id": "51004084",
   "metadata": {},
   "source": [
    "## Importing Libraries:"
   ]
  },
  {
   "cell_type": "code",
   "execution_count": 29,
   "id": "c5086ca9",
   "metadata": {},
   "outputs": [],
   "source": [
    "import pandas as pd\n",
    "import numpy as np\n",
    "import seaborn as sns\n",
    "import matplotlib.pyplot as plt\n",
    "import scikitplot as skplt\n",
    "\n",
    "import warnings\n",
    "import time\n",
    "import pickle\n",
    "import json\n",
    "\n",
    "from sklearn.model_selection import train_test_split, RandomizedSearchCV, StratifiedKFold\n",
    "from sklearn.pipeline import Pipeline\n",
    "from sklearn.compose import ColumnTransformer\n",
    "from sklearn.preprocessing import StandardScaler, OneHotEncoder\n",
    "from sklearn.ensemble import RandomForestClassifier, AdaBoostClassifier, GradientBoostingClassifier\n",
    "from sklearn.metrics import recall_score, precision_score, roc_auc_score, fbeta_score, accuracy_score, \\\n",
    "                            classification_report, confusion_matrix, ConfusionMatrixDisplay, roc_curve, \\\n",
    "                            precision_recall_curve, mean_squared_error, r2_score, make_scorer\n",
    "\n",
    "from imblearn.pipeline import Pipeline as ImbPipeline\n",
    "from imblearn.over_sampling import SMOTE\n",
    "\n",
    "from category_encoders import TargetEncoder\n",
    "from scipy.stats import randint, uniform"
   ]
  },
  {
   "cell_type": "markdown",
   "id": "bbb8cc9b",
   "metadata": {},
   "source": [
    "## Importing Data:"
   ]
  },
  {
   "cell_type": "code",
   "execution_count": 30,
   "id": "41883920",
   "metadata": {},
   "outputs": [
    {
     "data": {
      "text/plain": [
       "(120000, 20)"
      ]
     },
     "execution_count": 30,
     "metadata": {},
     "output_type": "execute_result"
    }
   ],
   "source": [
    "route = \"../Data/Preprocessed_Data.csv\"\n",
    "\n",
    "df_data_0 = pd.read_csv(route).drop(\"Unnamed: 0\", axis = 1)\n",
    "df_data_0.shape"
   ]
  },
  {
   "cell_type": "code",
   "execution_count": 31,
   "id": "f152f766",
   "metadata": {},
   "outputs": [
    {
     "data": {
      "text/html": [
       "<div>\n",
       "<style scoped>\n",
       "    .dataframe tbody tr th:only-of-type {\n",
       "        vertical-align: middle;\n",
       "    }\n",
       "\n",
       "    .dataframe tbody tr th {\n",
       "        vertical-align: top;\n",
       "    }\n",
       "\n",
       "    .dataframe thead th {\n",
       "        text-align: right;\n",
       "    }\n",
       "</style>\n",
       "<table border=\"1\" class=\"dataframe\">\n",
       "  <thead>\n",
       "    <tr style=\"text-align: right;\">\n",
       "      <th></th>\n",
       "      <th>Proj_Group</th>\n",
       "      <th>Proj_Segment</th>\n",
       "      <th>Proj_Type</th>\n",
       "      <th>Visitor_Group</th>\n",
       "      <th>Visitor_Gender</th>\n",
       "      <th>Question_Age</th>\n",
       "      <th>Question_Budget</th>\n",
       "      <th>Question_HHIncome</th>\n",
       "      <th>Question_InstallmentMonthly</th>\n",
       "      <th>Question_MarriageStatus</th>\n",
       "      <th>Question_Nationality</th>\n",
       "      <th>Question_Occupation</th>\n",
       "      <th>Question_P_Income</th>\n",
       "      <th>Question_TimeToMoveIn</th>\n",
       "      <th>Target_Variable_Convert</th>\n",
       "      <th>Question_Property_Buy_Objective</th>\n",
       "      <th>Question_Channel</th>\n",
       "      <th>Question_Factors_Considered</th>\n",
       "      <th>Question_Reason_to_visit_property_fair</th>\n",
       "      <th>Question_CashInstallmentOrNot</th>\n",
       "    </tr>\n",
       "  </thead>\n",
       "  <tbody>\n",
       "    <tr>\n",
       "      <th>0</th>\n",
       "      <td>Outer</td>\n",
       "      <td>B</td>\n",
       "      <td>Standard Units</td>\n",
       "      <td>Central</td>\n",
       "      <td>F</td>\n",
       "      <td>51 +</td>\n",
       "      <td>11.300000</td>\n",
       "      <td>587981.300000</td>\n",
       "      <td>81492.85000</td>\n",
       "      <td>Single</td>\n",
       "      <td>NaN</td>\n",
       "      <td>Business Owner</td>\n",
       "      <td>135377.055709</td>\n",
       "      <td>9.104913</td>\n",
       "      <td>False</td>\n",
       "      <td>Residence</td>\n",
       "      <td>NaN</td>\n",
       "      <td>Near_ShoppingMall</td>\n",
       "      <td>Company</td>\n",
       "      <td>Not_Cash</td>\n",
       "    </tr>\n",
       "    <tr>\n",
       "      <th>1</th>\n",
       "      <td>Outer</td>\n",
       "      <td>A</td>\n",
       "      <td>Standard Units</td>\n",
       "      <td>Outer</td>\n",
       "      <td>M</td>\n",
       "      <td>46 - 50</td>\n",
       "      <td>13.500000</td>\n",
       "      <td>421363.000000</td>\n",
       "      <td>54873.47601</td>\n",
       "      <td>Married with Children</td>\n",
       "      <td>NaN</td>\n",
       "      <td>Other(Please specify)</td>\n",
       "      <td>160000.000000</td>\n",
       "      <td>9.104913</td>\n",
       "      <td>False</td>\n",
       "      <td>NaN</td>\n",
       "      <td>Billboard</td>\n",
       "      <td>NaN</td>\n",
       "      <td>Location</td>\n",
       "      <td>NaN</td>\n",
       "    </tr>\n",
       "    <tr>\n",
       "      <th>2</th>\n",
       "      <td>Central</td>\n",
       "      <td>B</td>\n",
       "      <td>Premium Units</td>\n",
       "      <td>Central</td>\n",
       "      <td>F</td>\n",
       "      <td>51 +</td>\n",
       "      <td>11.300000</td>\n",
       "      <td>285742.151827</td>\n",
       "      <td>54873.47601</td>\n",
       "      <td>NaN</td>\n",
       "      <td>India</td>\n",
       "      <td>NaN</td>\n",
       "      <td>135377.055709</td>\n",
       "      <td>9.104913</td>\n",
       "      <td>False</td>\n",
       "      <td>Residence</td>\n",
       "      <td>Billboard</td>\n",
       "      <td>NaN</td>\n",
       "      <td>Location</td>\n",
       "      <td>NaN</td>\n",
       "    </tr>\n",
       "    <tr>\n",
       "      <th>3</th>\n",
       "      <td>Urban</td>\n",
       "      <td>A</td>\n",
       "      <td>Standard Units</td>\n",
       "      <td>Central</td>\n",
       "      <td>M</td>\n",
       "      <td>51 +</td>\n",
       "      <td>7.706004</td>\n",
       "      <td>285742.151827</td>\n",
       "      <td>54873.47601</td>\n",
       "      <td>Married with Children</td>\n",
       "      <td>NaN</td>\n",
       "      <td>Business Owner</td>\n",
       "      <td>135377.055709</td>\n",
       "      <td>9.104913</td>\n",
       "      <td>False</td>\n",
       "      <td>Residence</td>\n",
       "      <td>Billboard</td>\n",
       "      <td>NaN</td>\n",
       "      <td>Location</td>\n",
       "      <td>NaN</td>\n",
       "    </tr>\n",
       "    <tr>\n",
       "      <th>4</th>\n",
       "      <td>Outer</td>\n",
       "      <td>A</td>\n",
       "      <td>Standard Units</td>\n",
       "      <td>Central</td>\n",
       "      <td>M</td>\n",
       "      <td>51 +</td>\n",
       "      <td>16.000000</td>\n",
       "      <td>587981.300000</td>\n",
       "      <td>81492.85000</td>\n",
       "      <td>Married with Children</td>\n",
       "      <td>NaN</td>\n",
       "      <td>Business Owner</td>\n",
       "      <td>135377.055709</td>\n",
       "      <td>9.104913</td>\n",
       "      <td>False</td>\n",
       "      <td>Residence</td>\n",
       "      <td>NaN</td>\n",
       "      <td>Near_Previous_Home</td>\n",
       "      <td>Project_s_Attractiveness</td>\n",
       "      <td>Not_Cash</td>\n",
       "    </tr>\n",
       "  </tbody>\n",
       "</table>\n",
       "</div>"
      ],
      "text/plain": [
       "  Proj_Group Proj_Segment       Proj_Type Visitor_Group Visitor_Gender  \\\n",
       "0      Outer            B  Standard Units       Central              F   \n",
       "1      Outer            A  Standard Units         Outer              M   \n",
       "2    Central            B   Premium Units       Central              F   \n",
       "3      Urban            A  Standard Units       Central              M   \n",
       "4      Outer            A  Standard Units       Central              M   \n",
       "\n",
       "  Question_Age  Question_Budget  Question_HHIncome  \\\n",
       "0         51 +        11.300000      587981.300000   \n",
       "1      46 - 50        13.500000      421363.000000   \n",
       "2         51 +        11.300000      285742.151827   \n",
       "3         51 +         7.706004      285742.151827   \n",
       "4         51 +        16.000000      587981.300000   \n",
       "\n",
       "   Question_InstallmentMonthly Question_MarriageStatus Question_Nationality  \\\n",
       "0                  81492.85000                  Single                  NaN   \n",
       "1                  54873.47601   Married with Children                  NaN   \n",
       "2                  54873.47601                     NaN                India   \n",
       "3                  54873.47601   Married with Children                  NaN   \n",
       "4                  81492.85000   Married with Children                  NaN   \n",
       "\n",
       "     Question_Occupation  Question_P_Income  Question_TimeToMoveIn  \\\n",
       "0         Business Owner      135377.055709               9.104913   \n",
       "1  Other(Please specify)      160000.000000               9.104913   \n",
       "2                    NaN      135377.055709               9.104913   \n",
       "3         Business Owner      135377.055709               9.104913   \n",
       "4         Business Owner      135377.055709               9.104913   \n",
       "\n",
       "   Target_Variable_Convert Question_Property_Buy_Objective Question_Channel  \\\n",
       "0                    False                       Residence              NaN   \n",
       "1                    False                             NaN        Billboard   \n",
       "2                    False                       Residence        Billboard   \n",
       "3                    False                       Residence        Billboard   \n",
       "4                    False                       Residence              NaN   \n",
       "\n",
       "  Question_Factors_Considered Question_Reason_to_visit_property_fair  \\\n",
       "0           Near_ShoppingMall                                Company   \n",
       "1                         NaN                               Location   \n",
       "2                         NaN                               Location   \n",
       "3                         NaN                               Location   \n",
       "4          Near_Previous_Home               Project_s_Attractiveness   \n",
       "\n",
       "  Question_CashInstallmentOrNot  \n",
       "0                      Not_Cash  \n",
       "1                           NaN  \n",
       "2                           NaN  \n",
       "3                           NaN  \n",
       "4                      Not_Cash  "
      ]
     },
     "execution_count": 31,
     "metadata": {},
     "output_type": "execute_result"
    }
   ],
   "source": [
    "df_data = df_data_0.copy()\n",
    "df_data.head()"
   ]
  },
  {
   "cell_type": "code",
   "execution_count": 32,
   "id": "1e1bbace",
   "metadata": {},
   "outputs": [],
   "source": [
    "# Setting numeric and categorical variables to their correct types\n",
    "numeric_var = [\"Question_Budget\", \"Question_HHIncome\", \"Question_P_Income\", \"Question_TimeToMoveIn\", \n",
    "               \"Question_InstallmentMonthly\"]\n",
    "\n",
    "categorical_var = []\n",
    "\n",
    "for i in df_data.columns:\n",
    "    if i not in numeric_var:\n",
    "        categorical_var.append(i)\n",
    "        \n",
    "for i in df_data.columns:\n",
    "    if i in numeric_var:\n",
    "        df_data[i] = df_data[i].astype(float)\n",
    "    else:\n",
    "        df_data[i] = df_data[i].astype(\"object\")"
   ]
  },
  {
   "cell_type": "markdown",
   "id": "df496e16",
   "metadata": {},
   "source": [
    "## Question 4 - Class Imbalance in Target Variable:"
   ]
  },
  {
   "cell_type": "code",
   "execution_count": 33,
   "id": "72431810",
   "metadata": {
    "scrolled": true
   },
   "outputs": [
    {
     "data": {
      "text/html": [
       "<div>\n",
       "<style scoped>\n",
       "    .dataframe tbody tr th:only-of-type {\n",
       "        vertical-align: middle;\n",
       "    }\n",
       "\n",
       "    .dataframe tbody tr th {\n",
       "        vertical-align: top;\n",
       "    }\n",
       "\n",
       "    .dataframe thead th {\n",
       "        text-align: right;\n",
       "    }\n",
       "</style>\n",
       "<table border=\"1\" class=\"dataframe\">\n",
       "  <thead>\n",
       "    <tr style=\"text-align: right;\">\n",
       "      <th></th>\n",
       "      <th>index</th>\n",
       "      <th>Quantity</th>\n",
       "      <th>Percentage</th>\n",
       "    </tr>\n",
       "  </thead>\n",
       "  <tbody>\n",
       "    <tr>\n",
       "      <th>0</th>\n",
       "      <td>False</td>\n",
       "      <td>111245</td>\n",
       "      <td>92.704167</td>\n",
       "    </tr>\n",
       "    <tr>\n",
       "      <th>1</th>\n",
       "      <td>True</td>\n",
       "      <td>8755</td>\n",
       "      <td>7.295833</td>\n",
       "    </tr>\n",
       "  </tbody>\n",
       "</table>\n",
       "</div>"
      ],
      "text/plain": [
       "   index  Quantity  Percentage\n",
       "0  False    111245   92.704167\n",
       "1   True      8755    7.295833"
      ]
     },
     "execution_count": 33,
     "metadata": {},
     "output_type": "execute_result"
    }
   ],
   "source": [
    "target_count = df_data[\"Target_Variable_Convert\"].value_counts().to_frame(\"Quantity\").reset_index()\n",
    "\n",
    "target_percent = df_data[\"Target_Variable_Convert\"].value_counts(normalize = True).mul(100).to_frame(\"Percentage\").reset_index()\n",
    "\n",
    "target = pd.merge(target_count, target_percent, on = \"index\", how = \"inner\")\n",
    "target"
   ]
  },
  {
   "cell_type": "code",
   "execution_count": 34,
   "id": "0fe0d2d4",
   "metadata": {},
   "outputs": [
    {
     "data": {
      "image/png": "[encoded data removed]",
      "text/plain": [
       "<Figure size 640x480 with 1 Axes>"
      ]
     },
     "metadata": {},
     "output_type": "display_data"
    }
   ],
   "source": [
    "sns.barplot(x = \"index\", y = \"Percentage\", data = target)\n",
    "\n",
    "plt.title(\"Proportion of Values in Each Target Class\")\n",
    "plt.ylabel(\"Porcentaje de Values\")\n",
    "plt.xlabel(\"Target Classes\")\n",
    "\n",
    "plt.tight_layout()"
   ]
  },
  {
   "cell_type": "markdown",
   "id": "92144325",
   "metadata": {},
   "source": [
    "When analysing the diagram seen above, we can clearly see that there is a significant imbalance problem with regards to the binomial target variable's two target classes of False (Class 0) and True (Class 1). This will prove to be an extremely limiting factor for the model's prediction capability of Class 1 instances if left untreated. As a result, the most reasonable set of steps that should be taken are to either undersample the Class 0 instances or oversample the Class 1 instances until the number of instances are relatively equal for both target classes. In the case of this project, I have chosen to use the oversampling technique using the SMOTE algorithm for the \"imblearn\" python library."
   ]
  },
  {
   "cell_type": "code",
   "execution_count": 35,
   "id": "b8dc0947",
   "metadata": {},
   "outputs": [],
   "source": [
    "# Organising the dataset in such a way that the numeric variables appear first and are followed by the categorical\n",
    "# variables, this is a completely optional personal preference that helps me visualise what I'm doing as I code\n",
    "df_data = pd.concat([df_data[numeric_var], df_data[categorical_var]], axis = 1)\n",
    "\n",
    "# Separating the dataset into a training and testing set of data\n",
    "X = df_data.drop(\"Target_Variable_Convert\", axis = 1)\n",
    "Y = df_data.Target_Variable_Convert.astype(int)\n",
    "\n",
    "X_train, X_test, y_train, y_test = train_test_split(X, Y, test_size = 0.2, random_state = 42)"
   ]
  },
  {
   "cell_type": "code",
   "execution_count": 36,
   "id": "8c1dba89",
   "metadata": {},
   "outputs": [],
   "source": [
    "# Creating a separate list of categorical variables that will not include the target variable itself\n",
    "no_target_categorical_var = []\n",
    "\n",
    "for i in categorical_var:\n",
    "    if i != \"Target_Variable_Convert\":\n",
    "        no_target_categorical_var.append(i)"
   ]
  },
  {
   "cell_type": "code",
   "execution_count": 37,
   "id": "c74a950f",
   "metadata": {},
   "outputs": [],
   "source": [
    "# Creating the transformers and pipelines that will be used to treat the data before training the model. This involves a \n",
    "# process that first standardises the numeric variables in order to simplify the model's training, then proceeds to encode\n",
    "# the categorical variables using the One-Hot Encoding algorithm (other algorithms like Target Encoding would also have\n",
    "# worked), and finally oversamples the instances of the target variable's \"Class 1\" for the imbalanced problem mentioned\n",
    "# above to be solved.\n",
    "\n",
    "numeric_transformer = Pipeline(steps = [(\"scaler\", StandardScaler())])\n",
    "\n",
    "categorical_transformer = Pipeline(steps = [(\"te\", TargetEncoder())])\n",
    "\n",
    "preprocessor = ColumnTransformer(transformers = [(\"num\", numeric_transformer, numeric_var), \n",
    "                                                 (\"cat\", categorical_transformer, no_target_categorical_var)])\n",
    "\n",
    "oversampling_pipeline = ImbPipeline(steps = [(\"preprocessor\", preprocessor), (\"smote\", SMOTE(random_state = 42))])"
   ]
  },
  {
   "cell_type": "code",
   "execution_count": 38,
   "id": "039e91d3",
   "metadata": {},
   "outputs": [
    {
     "data": {
      "image/png": "[encoded data removed]",
      "text/plain": [
       "<Figure size 800x300 with 1 Axes>"
      ]
     },
     "metadata": {},
     "output_type": "display_data"
    }
   ],
   "source": [
    "# We can see from the diagram below that the imbalanced issue that used to be taking place is no longer influencing the \n",
    "# training of the classification model. It's extremely important to mention that the oversampling must not be implemented\n",
    "# onto the testing dataset of the model as that dataset must be left completely intact throughout the whole model\n",
    "# development process (otherwise, the risk of causing overfitting would be significantly increased).\n",
    "X_train_oversampled, y_train_oversampled = oversampling_pipeline.fit_resample(X_train, y_train)\n",
    "\n",
    "oversampled_data_diagram = pd.DataFrame({\"Oversampled_Target_Variable\": y_train_oversampled})\n",
    "f, (ax) = plt.subplots(figsize = (8, 3))\n",
    "ax = sns.countplot(data = oversampled_data_diagram, x = \"Oversampled_Target_Variable\")\n",
    "plt.tight_layout()"
   ]
  },
  {
   "cell_type": "markdown",
   "id": "a003323b",
   "metadata": {},
   "source": [
    "## Question 5 - Training The Classification Model:\n",
    "### Classification Model Algorithm Selection:"
   ]
  },
  {
   "cell_type": "code",
   "execution_count": 39,
   "id": "c0e2d7e9",
   "metadata": {},
   "outputs": [],
   "source": [
    "# Creating a list of the three classifier algorithms that will be compared in order to select one (the list is created in\n",
    "# order to automate the process)\n",
    "classifiers = [RandomForestClassifier(random_state = 42),\n",
    "               AdaBoostClassifier(random_state = 42),\n",
    "               GradientBoostingClassifier(random_state = 42)]\n",
    "\n",
    "classifier_names = [\"Random Forest Classifier\", \"Ada Boost Classifier\", \"Gradient Boosting Classifier\", ]"
   ]
  },
  {
   "cell_type": "code",
   "execution_count": 40,
   "id": "f0328484",
   "metadata": {},
   "outputs": [],
   "source": [
    "# An empty dataframe is created for future ease in comparing the results of the three classifier algorithms being compared\n",
    "df_results = pd.DataFrame({\"Classification Model\": [], \n",
    "                             \"Accuracy\": [],\n",
    "                             \"F2 Score\": [],\n",
    "                             \"Recall\": [],\n",
    "                             \"Precision\": [],\n",
    "                             \"Time Taken (min)\": []})\n",
    "\n",
    "df_base_results = df_results.copy()"
   ]
  },
  {
   "cell_type": "code",
   "execution_count": 41,
   "id": "6806e8b7",
   "metadata": {},
   "outputs": [
    {
     "data": {
      "text/html": [
       "<div>\n",
       "<style scoped>\n",
       "    .dataframe tbody tr th:only-of-type {\n",
       "        vertical-align: middle;\n",
       "    }\n",
       "\n",
       "    .dataframe tbody tr th {\n",
       "        vertical-align: top;\n",
       "    }\n",
       "\n",
       "    .dataframe thead th {\n",
       "        text-align: right;\n",
       "    }\n",
       "</style>\n",
       "<table border=\"1\" class=\"dataframe\">\n",
       "  <thead>\n",
       "    <tr style=\"text-align: right;\">\n",
       "      <th></th>\n",
       "      <th>Classification Model</th>\n",
       "      <th>Accuracy</th>\n",
       "      <th>F2 Score</th>\n",
       "      <th>Recall</th>\n",
       "      <th>Precision</th>\n",
       "      <th>Time Taken (min)</th>\n",
       "    </tr>\n",
       "  </thead>\n",
       "  <tbody>\n",
       "    <tr>\n",
       "      <th>0</th>\n",
       "      <td>Random Forest Classifier</td>\n",
       "      <td>0.935</td>\n",
       "      <td>0.432</td>\n",
       "      <td>0.405</td>\n",
       "      <td>0.586</td>\n",
       "      <td>1.195</td>\n",
       "    </tr>\n",
       "    <tr>\n",
       "      <th>1</th>\n",
       "      <td>Ada Boost Classifier</td>\n",
       "      <td>0.900</td>\n",
       "      <td>0.458</td>\n",
       "      <td>0.490</td>\n",
       "      <td>0.365</td>\n",
       "      <td>0.441</td>\n",
       "    </tr>\n",
       "    <tr>\n",
       "      <th>2</th>\n",
       "      <td>Gradient Boosting Classifier</td>\n",
       "      <td>0.918</td>\n",
       "      <td>0.440</td>\n",
       "      <td>0.440</td>\n",
       "      <td>0.443</td>\n",
       "      <td>1.909</td>\n",
       "    </tr>\n",
       "  </tbody>\n",
       "</table>\n",
       "</div>"
      ],
      "text/plain": [
       "           Classification Model  Accuracy  F2 Score  Recall  Precision  \\\n",
       "0      Random Forest Classifier     0.935     0.432   0.405      0.586   \n",
       "1          Ada Boost Classifier     0.900     0.458   0.490      0.365   \n",
       "2  Gradient Boosting Classifier     0.918     0.440   0.440      0.443   \n",
       "\n",
       "   Time Taken (min)  \n",
       "0             1.195  \n",
       "1             0.441  \n",
       "2             1.909  "
      ]
     },
     "execution_count": 41,
     "metadata": {},
     "output_type": "execute_result"
    }
   ],
   "source": [
    "# The three classifier algorithms are trained on the training dataset without any fine-tuning or variable selection seeing\n",
    "# as, at the moment, we are only comparing their results with each other in order to select one that will be further \n",
    "# improved further on in the notebook.\n",
    "n = 0\n",
    "\n",
    "for classifier in classifiers:\n",
    "    start_time = time.time()\n",
    "\n",
    "    classifier.fit(X_train_oversampled, y_train_oversampled)\n",
    "    \n",
    "    X_test_preprocessed = preprocessor.transform(X_test)\n",
    "    y_pred = classifier.predict(X_test_preprocessed)\n",
    "\n",
    "    end_time = time.time()\n",
    "    elapsed_time = end_time - start_time\n",
    "    \n",
    "    accuracy = accuracy_score(y_test, y_pred)\n",
    "    f2 = fbeta_score(y_true = y_test, y_pred = y_pred, beta = 2)\n",
    "    recall = recall_score(y_test, y_pred)\n",
    "    precision = precision_score(y_test, y_pred)\n",
    "    \n",
    "    df_base_results.loc[n] = [classifier_names[n], round(accuracy, 3), round(f2, 3), round(recall, 3), round(precision, 3),\n",
    "                              round((elapsed_time / 60), 3)]\n",
    "    \n",
    "    n += 1\n",
    "    \n",
    "df_base_results"
   ]
  },
  {
   "cell_type": "markdown",
   "id": "3737a5e9",
   "metadata": {},
   "source": [
    "The table above demontrates the different performances of the three classifiers being compared. We can see that they are each best in their own way. The Ada Boost Classifier is best when looking at the accuracy metric, which measures the amount of instances predicted correctly in total. On the other hand, the Ada Boost Classifier is best when looking at the recall metric, which measures how many of the \"Class 1\" instances were predicted correctly, whereas the Gradient Boosting Classifier is best when looking at the F2 Score metric (a metric that combines both Recall and Precision scores in such a way that it favours the correct predictions of \"Class 1\" instances of the target variable). For the purpose of this project, I chose to use the Ada Boost Classifier seeing as it had a higher accuracy rating than the other two classifiers and seeing as the other two had relatively low precision scores (meaning that the large majority of the instances predicted as \"Class 1\" were incorrectly classified as such)."
   ]
  },
  {
   "cell_type": "markdown",
   "id": "bd71ddec",
   "metadata": {},
   "source": [
    "### Variable Reduction:"
   ]
  },
  {
   "cell_type": "code",
   "execution_count": 42,
   "id": "96fc1c97",
   "metadata": {},
   "outputs": [
    {
     "data": {
      "text/html": [
       "<style>#sk-container-id-2 {color: black;background-color: white;}#sk-container-id-2 pre{padding: 0;}#sk-container-id-2 div.sk-toggleable {background-color: white;}#sk-container-id-2 label.sk-toggleable__label {cursor: pointer;display: block;width: 100%;margin-bottom: 0;padding: 0.3em;box-sizing: border-box;text-align: center;}#sk-container-id-2 label.sk-toggleable__label-arrow:before {content: \"▸\";float: left;margin-right: 0.25em;color: #696969;}#sk-container-id-2 label.sk-toggleable__label-arrow:hover:before {color: black;}#sk-container-id-2 div.sk-estimator:hover label.sk-toggleable__label-arrow:before {color: black;}#sk-container-id-2 div.sk-toggleable__content {max-height: 0;max-width: 0;overflow: hidden;text-align: left;background-color: #f0f8ff;}#sk-container-id-2 div.sk-toggleable__content pre {margin: 0.2em;color: black;border-radius: 0.25em;background-color: #f0f8ff;}#sk-container-id-2 input.sk-toggleable__control:checked~div.sk-toggleable__content {max-height: 200px;max-width: 100%;overflow: auto;}#sk-container-id-2 input.sk-toggleable__control:checked~label.sk-toggleable__label-arrow:before {content: \"▾\";}#sk-container-id-2 div.sk-estimator input.sk-toggleable__control:checked~label.sk-toggleable__label {background-color: #d4ebff;}#sk-container-id-2 div.sk-label input.sk-toggleable__control:checked~label.sk-toggleable__label {background-color: #d4ebff;}#sk-container-id-2 input.sk-hidden--visually {border: 0;clip: rect(1px 1px 1px 1px);clip: rect(1px, 1px, 1px, 1px);height: 1px;margin: -1px;overflow: hidden;padding: 0;position: absolute;width: 1px;}#sk-container-id-2 div.sk-estimator {font-family: monospace;background-color: #f0f8ff;border: 1px dotted black;border-radius: 0.25em;box-sizing: border-box;margin-bottom: 0.5em;}#sk-container-id-2 div.sk-estimator:hover {background-color: #d4ebff;}#sk-container-id-2 div.sk-parallel-item::after {content: \"\";width: 100%;border-bottom: 1px solid gray;flex-grow: 1;}#sk-container-id-2 div.sk-label:hover label.sk-toggleable__label {background-color: #d4ebff;}#sk-container-id-2 div.sk-serial::before {content: \"\";position: absolute;border-left: 1px solid gray;box-sizing: border-box;top: 0;bottom: 0;left: 50%;z-index: 0;}#sk-container-id-2 div.sk-serial {display: flex;flex-direction: column;align-items: center;background-color: white;padding-right: 0.2em;padding-left: 0.2em;position: relative;}#sk-container-id-2 div.sk-item {position: relative;z-index: 1;}#sk-container-id-2 div.sk-parallel {display: flex;align-items: stretch;justify-content: center;background-color: white;position: relative;}#sk-container-id-2 div.sk-item::before, #sk-container-id-2 div.sk-parallel-item::before {content: \"\";position: absolute;border-left: 1px solid gray;box-sizing: border-box;top: 0;bottom: 0;left: 50%;z-index: -1;}#sk-container-id-2 div.sk-parallel-item {display: flex;flex-direction: column;z-index: 1;position: relative;background-color: white;}#sk-container-id-2 div.sk-parallel-item:first-child::after {align-self: flex-end;width: 50%;}#sk-container-id-2 div.sk-parallel-item:last-child::after {align-self: flex-start;width: 50%;}#sk-container-id-2 div.sk-parallel-item:only-child::after {width: 0;}#sk-container-id-2 div.sk-dashed-wrapped {border: 1px dashed gray;margin: 0 0.4em 0.5em 0.4em;box-sizing: border-box;padding-bottom: 0.4em;background-color: white;}#sk-container-id-2 div.sk-label label {font-family: monospace;font-weight: bold;display: inline-block;line-height: 1.2em;}#sk-container-id-2 div.sk-label-container {text-align: center;}#sk-container-id-2 div.sk-container {/* jupyter's `normalize.less` sets `[hidden] { display: none; }` but bootstrap.min.css set `[hidden] { display: none !important; }` so we also need the `!important` here to be able to override the default hidden behavior on the sphinx rendered scikit-learn.org. See: https://github.com/scikit-learn/scikit-learn/issues/21755 */display: inline-block !important;position: relative;}#sk-container-id-2 div.sk-text-repr-fallback {display: none;}</style><div id=\"sk-container-id-2\" class=\"sk-top-container\"><div class=\"sk-text-repr-fallback\"><pre>AdaBoostClassifier(random_state=42)</pre><b>In a Jupyter environment, please rerun this cell to show the HTML representation or trust the notebook. <br />On GitHub, the HTML representation is unable to render, please try loading this page with nbviewer.org.</b></div><div class=\"sk-container\" hidden><div class=\"sk-item\"><div class=\"sk-estimator sk-toggleable\"><input class=\"sk-toggleable__control sk-hidden--visually\" id=\"sk-estimator-id-2\" type=\"checkbox\" checked><label for=\"sk-estimator-id-2\" class=\"sk-toggleable__label sk-toggleable__label-arrow\">AdaBoostClassifier</label><div class=\"sk-toggleable__content\"><pre>AdaBoostClassifier(random_state=42)</pre></div></div></div></div></div>"
      ],
      "text/plain": [
       "AdaBoostClassifier(random_state=42)"
      ]
     },
     "execution_count": 42,
     "metadata": {},
     "output_type": "execute_result"
    }
   ],
   "source": [
    "ab_clf = classifiers[1]\n",
    "ab_clf.fit(X_train_oversampled, y_train_oversampled)"
   ]
  },
  {
   "cell_type": "code",
   "execution_count": 43,
   "id": "8cd4f90c",
   "metadata": {},
   "outputs": [
    {
     "data": {
      "text/html": [
       "<div>\n",
       "<style scoped>\n",
       "    .dataframe tbody tr th:only-of-type {\n",
       "        vertical-align: middle;\n",
       "    }\n",
       "\n",
       "    .dataframe tbody tr th {\n",
       "        vertical-align: top;\n",
       "    }\n",
       "\n",
       "    .dataframe thead th {\n",
       "        text-align: right;\n",
       "    }\n",
       "</style>\n",
       "<table border=\"1\" class=\"dataframe\">\n",
       "  <thead>\n",
       "    <tr style=\"text-align: right;\">\n",
       "      <th></th>\n",
       "      <th>Feature</th>\n",
       "      <th>Importance</th>\n",
       "    </tr>\n",
       "  </thead>\n",
       "  <tbody>\n",
       "    <tr>\n",
       "      <th>0</th>\n",
       "      <td>Question_Budget</td>\n",
       "      <td>0.0</td>\n",
       "    </tr>\n",
       "    <tr>\n",
       "      <th>1</th>\n",
       "      <td>Question_HHIncome</td>\n",
       "      <td>0.0</td>\n",
       "    </tr>\n",
       "    <tr>\n",
       "      <th>2</th>\n",
       "      <td>Question_P_Income</td>\n",
       "      <td>0.0</td>\n",
       "    </tr>\n",
       "    <tr>\n",
       "      <th>3</th>\n",
       "      <td>Question_TimeToMoveIn</td>\n",
       "      <td>0.0</td>\n",
       "    </tr>\n",
       "    <tr>\n",
       "      <th>4</th>\n",
       "      <td>Question_InstallmentMonthly</td>\n",
       "      <td>0.0</td>\n",
       "    </tr>\n",
       "  </tbody>\n",
       "</table>\n",
       "</div>"
      ],
      "text/plain": [
       "                       Feature  Importance\n",
       "0              Question_Budget         0.0\n",
       "1            Question_HHIncome         0.0\n",
       "2            Question_P_Income         0.0\n",
       "3        Question_TimeToMoveIn         0.0\n",
       "4  Question_InstallmentMonthly         0.0"
      ]
     },
     "execution_count": 43,
     "metadata": {},
     "output_type": "execute_result"
    }
   ],
   "source": [
    "# Obtaining the relative importances of the variables in terms of the contribution they offered for the model's predictions\n",
    "feature_importance = ab_clf.feature_importances_\n",
    "all_var = list(df_data.drop(\"Target_Variable_Convert\", axis = 1).columns)\n",
    "\n",
    "importance_df = pd.DataFrame({\"Feature\": all_var, \n",
    "                              \"Importance\": feature_importance})\n",
    "importance_df.head()"
   ]
  },
  {
   "cell_type": "code",
   "execution_count": 44,
   "id": "6cc4ee66",
   "metadata": {},
   "outputs": [
    {
     "data": {
      "image/png": "[encoded data removed]",
      "text/plain": [
       "<Figure size 800x1200 with 1 Axes>"
      ]
     },
     "metadata": {},
     "output_type": "display_data"
    }
   ],
   "source": [
    "# Illustrating teh relative importance of all the variables visually\n",
    "importance_df = importance_df.sort_values(by = \"Importance\", ascending = False)\n",
    "\n",
    "f, (ax) = plt.subplots(figsize = (8, 12))\n",
    "sns.barplot(x = \"Importance\", y = \"Feature\", data = importance_df, ax = ax)\n",
    "ax.set_title(\"Relative Importance of The Features in The Model\")\n",
    "plt.tight_layout()"
   ]
  },
  {
   "cell_type": "code",
   "execution_count": 45,
   "id": "b798e621",
   "metadata": {},
   "outputs": [
    {
     "data": {
      "text/plain": [
       "['Question_Property_Buy_Objective',\n",
       " 'Question_Budget',\n",
       " 'Question_Nationality',\n",
       " 'Question_HHIncome',\n",
       " 'Question_InstallmentMonthly',\n",
       " 'Question_TimeToMoveIn',\n",
       " 'Question_P_Income',\n",
       " 'Question_CashInstallmentOrNot']"
      ]
     },
     "execution_count": 45,
     "metadata": {},
     "output_type": "execute_result"
    }
   ],
   "source": [
    "# We will reduce the dimensionality of the dataset by eliminating the variables that did not contribute any relevant\n",
    "# information\n",
    "eliminated_var = list(importance_df[\"Feature\"][importance_df[\"Importance\"] == 0])\n",
    "eliminated_var"
   ]
  },
  {
   "cell_type": "code",
   "execution_count": 18,
   "id": "b0f31b48",
   "metadata": {},
   "outputs": [],
   "source": [
    "final_numeric_var = []\n",
    "final_categorical_var = []\n",
    "\n",
    "for i in numeric_var:\n",
    "    if i not in eliminated_var:\n",
    "        final_numeric_var.append(i)\n",
    "        \n",
    "for i in no_target_categorical_var:\n",
    "    if i not in eliminated_var:\n",
    "        final_categorical_var.append(i)"
   ]
  },
  {
   "cell_type": "code",
   "execution_count": 19,
   "id": "67456b2c",
   "metadata": {},
   "outputs": [
    {
     "name": "stdout",
     "output_type": "stream",
     "text": [
      "Accuracy : 0.859\n",
      "F2 Score : 0.52\n",
      "Recall Score : 0.647\n",
      "Precision Score : 0.291\n"
     ]
    }
   ],
   "source": [
    "# We re-creaete the preprocessing and oversampling pipelines without the insignificant variables seen above\n",
    "preprocessor = ColumnTransformer(transformers = [(\"num\", numeric_transformer, final_numeric_var), \n",
    "                                                 (\"cat\", categorical_transformer, final_categorical_var)])\n",
    "\n",
    "oversampling_pipeline = ImbPipeline(steps = [(\"preprocessor\", preprocessor), (\"smote\", SMOTE(random_state = 42))])\n",
    "\n",
    "X_train_oversampled_reduced, y_train_oversampled = oversampling_pipeline\\\n",
    "                                                    .fit_resample(X_train.drop(eliminated_var, axis = 1), y_train)\n",
    "\n",
    "ab_clf_1 = classifiers[1]\n",
    "ab_clf_1.fit(X_train_oversampled_reduced, y_train_oversampled)\n",
    "\n",
    "X_test_preprocessed = preprocessor.transform(X_test.drop(eliminated_var, axis = 1))\n",
    "y_pred = ab_clf_1.predict(X_test_preprocessed)\n",
    "\n",
    "print(f\"Accuracy : {round(accuracy_score(y_test, y_pred), 3)}\")\n",
    "print(f\"F2 Score : {round(fbeta_score(y_true = y_test, y_pred = y_pred, beta = 2), 3)}\")\n",
    "print(f\"Recall Score : {round(recall_score(y_test, y_pred), 3)}\")\n",
    "print(f\"Precision Score : {round(precision_score(y_test, y_pred), 3)}\")"
   ]
  },
  {
   "cell_type": "markdown",
   "id": "a5fa33ae",
   "metadata": {},
   "source": [
    "Above, are the results from the Ada Boost Classifier trained on the reduced dataset with the default hyperparameters. We can already see that all three metrics improved slightly after eliminating the variables that were not contributing any relevant information.t were not contributing any relevant information."
   ]
  },
  {
   "cell_type": "markdown",
   "id": "49c2719d",
   "metadata": {},
   "source": [
    "### Hyperparameter Fine-Tuning:"
   ]
  },
  {
   "cell_type": "code",
   "execution_count": 20,
   "id": "773cf02b",
   "metadata": {},
   "outputs": [
    {
     "name": "stdout",
     "output_type": "stream",
     "text": [
      "Best hyperparameters: {'algorithm': 'SAMME', 'learning_rate': 0.9932308858067882, 'n_estimators': 298, 'random_state': 42}\n",
      "Best F2 Score:  0.89217039691107\n",
      "Elapsed time: 11.956954797108969 minutes\n"
     ]
    }
   ],
   "source": [
    "start_time = time.time()\n",
    "\n",
    "# These are the parameters of the Ada Boost Classifier that I will be fine-tuning:\n",
    "parameters = {\"n_estimators\": randint(50, 300),\n",
    "              \"learning_rate\": uniform(0.01, 1),\n",
    "              \"algorithm\": [\"SAMME\"],\n",
    "              \"random_state\": [42]\n",
    "             }\n",
    "\n",
    "# This is the the scoring system that the fine-tuning function (\"RandomizedSearchCV()\") will be using to optimise the \n",
    "# hyperparameters of the parameters seen above:\n",
    "f2_scorer = make_scorer(fbeta_score, beta = 2)\n",
    "\n",
    "opt_clf = RandomizedSearchCV(ab_clf_1, param_distributions = parameters, n_iter = 20, cv = 5, n_jobs = -1, \n",
    "                             random_state = 42, scoring = f2_scorer)\n",
    "\n",
    "# Fit the model on the training data\n",
    "opt_clf.fit(X_train_oversampled_reduced, y_train_oversampled)\n",
    "\n",
    "end_time = time.time()\n",
    "elapsed_time = end_time - start_time\n",
    "\n",
    "# Extract the best hyperparameters\n",
    "hyperparam = opt_clf.best_params_\n",
    "print(\"Best hyperparameters:\", hyperparam)\n",
    "\n",
    "# Best F2 score during cross-validation\n",
    "best_accuracy_score = opt_clf.best_score_\n",
    "print(\"Best F2 Score: \", best_f2_score)\n",
    "\n",
    "print(f\"Elapsed time: {elapsed_time / 60} minutes\")"
   ]
  },
  {
   "cell_type": "code",
   "execution_count": 21,
   "id": "3fbb0971",
   "metadata": {},
   "outputs": [
    {
     "name": "stdout",
     "output_type": "stream",
     "text": [
      "F2 score on the test set: 0.5117565698478561\n",
      "Confusion Matrix:\n",
      "[[20188  2054]\n",
      " [  722  1036]]\n",
      "Classification Report:\n",
      "              precision    recall  f1-score   support\n",
      "\n",
      "           0       0.97      0.91      0.94     22242\n",
      "           1       0.34      0.59      0.43      1758\n",
      "\n",
      "    accuracy                           0.88     24000\n",
      "   macro avg       0.65      0.75      0.68     24000\n",
      "weighted avg       0.92      0.88      0.90     24000\n",
      "\n"
     ]
    }
   ],
   "source": [
    "best_clf = opt_clf.best_estimator_\n",
    "\n",
    "# Preprocess and predict on the test set\n",
    "y_pred = best_clf.predict(X_test_preprocessed)\n",
    "\n",
    "f2_test = fbeta_score(y_test, y_pred, beta=2)\n",
    "print(f\"F2 score on the test set: {f2_test}\")\n",
    "\n",
    "# Confusion matrix\n",
    "conf_matrix = confusion_matrix(y_test, y_pred)\n",
    "print(\"Confusion Matrix:\")\n",
    "print(conf_matrix)\n",
    "\n",
    "# Classification report\n",
    "print(\"Classification Report:\")\n",
    "print(classification_report(y_test, y_pred))"
   ]
  },
  {
   "cell_type": "markdown",
   "id": "6c28ea4d",
   "metadata": {},
   "source": [
    "### Training of Final Version of Model:"
   ]
  },
  {
   "cell_type": "code",
   "execution_count": 22,
   "id": "8363f580",
   "metadata": {},
   "outputs": [
    {
     "name": "stdout",
     "output_type": "stream",
     "text": [
      "Final Ada Boost Classifier Model Results:\n",
      "\n",
      "Confusion Matrix:\n",
      "[[20188  2054]\n",
      " [  722  1036]]\n",
      "\n",
      "Elapsed time: 0.52 minutes\n"
     ]
    },
    {
     "data": {
      "text/html": [
       "<div>\n",
       "<style scoped>\n",
       "    .dataframe tbody tr th:only-of-type {\n",
       "        vertical-align: middle;\n",
       "    }\n",
       "\n",
       "    .dataframe tbody tr th {\n",
       "        vertical-align: top;\n",
       "    }\n",
       "\n",
       "    .dataframe thead th {\n",
       "        text-align: right;\n",
       "    }\n",
       "</style>\n",
       "<table border=\"1\" class=\"dataframe\">\n",
       "  <thead>\n",
       "    <tr style=\"text-align: right;\">\n",
       "      <th></th>\n",
       "      <th>Classification Model</th>\n",
       "      <th>Accuracy</th>\n",
       "      <th>F2 Score</th>\n",
       "      <th>Recall</th>\n",
       "      <th>Precision</th>\n",
       "      <th>Time Taken (min)</th>\n",
       "    </tr>\n",
       "  </thead>\n",
       "  <tbody>\n",
       "    <tr>\n",
       "      <th>1</th>\n",
       "      <td>Final Ada Boost Model</td>\n",
       "      <td>0.884</td>\n",
       "      <td>0.512</td>\n",
       "      <td>0.589</td>\n",
       "      <td>0.335</td>\n",
       "      <td>0.519</td>\n",
       "    </tr>\n",
       "  </tbody>\n",
       "</table>\n",
       "</div>"
      ],
      "text/plain": [
       "    Classification Model  Accuracy  F2 Score  Recall  Precision  \\\n",
       "1  Final Ada Boost Model     0.884     0.512   0.589      0.335   \n",
       "\n",
       "   Time Taken (min)  \n",
       "1             0.519  "
      ]
     },
     "execution_count": 22,
     "metadata": {},
     "output_type": "execute_result"
    }
   ],
   "source": [
    "start_time = time.time()\n",
    "\n",
    "# The final version of the classification model using the hyperparameters found by the fine-tuning process above.\n",
    "final_clf = AdaBoostClassifier(**hyperparam)\n",
    "\n",
    "final_clf.fit(X_train_oversampled_reduced, y_train_oversampled)\n",
    "\n",
    "X_test_preprocessed = preprocessor.transform(X_test.drop(eliminated_var, axis = 1))\n",
    "y_pred = final_clf.predict(X_test_preprocessed)\n",
    "\n",
    "end_time = time.time()\n",
    "elapsed_time = end_time - start_time\n",
    "\n",
    "accuracy_final = accuracy_score(y_test, y_pred)\n",
    "f2_final = fbeta_score(y_true = y_test, y_pred = y_pred, beta = 2)\n",
    "recall_final = recall_score(y_test, y_pred)\n",
    "precision_final = precision_score(y_test, y_pred)\n",
    "\n",
    "df_results.loc[1] = [\"Final Ada Boost Model\", round(accuracy_final, 3), round(f2_final, 3), round(recall_final, 3), \n",
    "                     round(precision_final, 3), round((elapsed_time / 60), 3)]\n",
    "\n",
    "print(\"Final Ada Boost Classifier Model Results:\")\n",
    "print(\"\")\n",
    "conf_matrix = confusion_matrix(y_test, y_pred)\n",
    "print(\"Confusion Matrix:\")\n",
    "print(conf_matrix)\n",
    "print(\"\")\n",
    "\n",
    "print(f\"Elapsed time: {round((elapsed_time / 60), 2)} minutes\")\n",
    "\n",
    "df_results"
   ]
  },
  {
   "cell_type": "markdown",
   "id": "99a784eb",
   "metadata": {},
   "source": [
    "### Exporting The Model for Further Analysis in The Next Notebook:"
   ]
  },
  {
   "cell_type": "code",
   "execution_count": 23,
   "id": "0183039c",
   "metadata": {},
   "outputs": [],
   "source": [
    "# Creating the excel file with different sheets as requested\n",
    "test_series = pd.Series(y_test, name = \"Actual Results (y_test)\")\n",
    "pred_series = pd.Series(y_pred, name = \"Predicted Results (y_pred)\")\n",
    "\n",
    "with pd.ExcelWriter(\"Classification_Model_Results.xlsx\") as writer:\n",
    "    test_series.to_frame().to_excel(writer, sheet_name = \"Actual Results (y_test)\", index = False)\n",
    "    pred_series.to_frame().to_excel(writer, sheet_name = \"Predicted Results (y_pred)\", index = False)"
   ]
  },
  {
   "cell_type": "code",
   "execution_count": 24,
   "id": "6f83b364",
   "metadata": {},
   "outputs": [],
   "source": [
    "with open(\"../Models/Ada_Boost_Model.pkl\", \"wb\") as ada_boost_model:\n",
    "    pickle.dump(final_clf, ada_boost_model)"
   ]
  },
  {
   "cell_type": "code",
   "execution_count": 46,
   "id": "fbb347c9",
   "metadata": {},
   "outputs": [],
   "source": [
    "# Exporting the numpy array of the transformed X_test dataset for the analysis of different metrics in the third notebook\n",
    "np.save(\"../Data/Transformed_X_test.npy\", X_test_preprocessed)\n",
    "\n",
    "# Exporting the list of feature names for ease in their implementation in the third notebook\n",
    "feature_names = []\n",
    "for i in all_var:\n",
    "    if i not in eliminated_var:\n",
    "        feature_names.append(i)\n",
    "        \n",
    "with open(\"../Data/feature_names.json\", 'w') as f:\n",
    "    json.dump(feature_names, f)\n",
    "\n",
    "# Exporting the pandas series of the y_test dataset in order to determine the probabilities with which each of the model's\n",
    "# predictions were made (process done in the third notebook)\n",
    "y_test.to_csv(\"../Data/y_test.csv\", index = True)"
   ]
  },
  {
   "cell_type": "code",
   "execution_count": 26,
   "id": "320be3ae",
   "metadata": {},
   "outputs": [
    {
     "data": {
      "text/plain": [
       "71787     0\n",
       "67218     0\n",
       "54066     0\n",
       "7168      0\n",
       "29618     0\n",
       "101425    0\n",
       "20441     0\n",
       "2662      0\n",
       "20371     0\n",
       "108151    0\n",
       "Name: Target_Variable_Convert, dtype: int32"
      ]
     },
     "execution_count": 26,
     "metadata": {},
     "output_type": "execute_result"
    }
   ],
   "source": [
    "# Visualising the first 10 instances of the y_test dataset\n",
    "y_test[:10]"
   ]
  },
  {
   "cell_type": "code",
   "execution_count": null,
   "id": "36c936ad",
   "metadata": {},
   "outputs": [],
   "source": []
  }
 ],
 "metadata": {
  "kernelspec": {
   "display_name": "Python 3 (ipykernel)",
   "language": "python",
   "name": "python3"
  },
  "language_info": {
   "codemirror_mode": {
    "name": "ipython",
    "version": 3
   },
   "file_extension": ".py",
   "mimetype": "text/x-python",
   "name": "python",
   "nbconvert_exporter": "python",
   "pygments_lexer": "ipython3",
   "version": "3.11.5"
  }
 },
 "nbformat": 4,
 "nbformat_minor": 5
}
